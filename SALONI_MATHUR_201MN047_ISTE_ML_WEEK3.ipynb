{
  "nbformat": 4,
  "nbformat_minor": 0,
  "metadata": {
    "colab": {
      "name": "SALONI_MATHUR_201MN047_ISTE_ML_WEEK3",
      "provenance": []
    },
    "kernelspec": {
      "name": "python3",
      "display_name": "Python 3"
    },
    "language_info": {
      "name": "python"
    },
    "widgets": {
      "application/vnd.jupyter.widget-state+json": {
        "85d0121c67eb43bcb433b04fab8a6c3a": {
          "model_module": "jupyter-matplotlib",
          "model_name": "MPLCanvasModel",
          "state": {
            "_view_name": "MPLCanvasView",
            "_view_module": "jupyter-matplotlib",
            "_figure_label": "Figure",
            "_view_count": null,
            "_cursor": "pointer",
            "capture_scroll": false,
            "layout": "IPY_MODEL_409421feb8fa4330b25fca09944d51e7",
            "_model_module": "jupyter-matplotlib",
            "footer_visible": true,
            "_image_mode": "full",
            "_dom_classes": [],
            "resizable": true,
            "_model_name": "MPLCanvasModel",
            "_height": 0,
            "header_visible": true,
            "_model_module_version": "^0.9.0",
            "_rubberband_x": 0,
            "_rubberband_y": 0,
            "toolbar": "IPY_MODEL_2e567b9e9eaa48cd87525114a6caf7d2",
            "toolbar_visible": true,
            "_rubberband_width": 0,
            "_width": 0,
            "_message": "",
            "_rubberband_height": 0,
            "_view_module_version": "^0.9.0",
            "toolbar_position": "left"
          }
        },
        "833e63c338d8470aa38ac7dc1e990bb1": {
          "model_module": "jupyter-matplotlib",
          "model_name": "MPLCanvasModel",
          "state": {
            "_view_name": "MPLCanvasView",
            "_view_module": "jupyter-matplotlib",
            "_figure_label": "Figure",
            "_view_count": null,
            "_cursor": "pointer",
            "capture_scroll": false,
            "layout": "IPY_MODEL_d544dbc6fbe6417cb40664eb39f4e41a",
            "_model_module": "jupyter-matplotlib",
            "footer_visible": true,
            "_image_mode": "full",
            "_dom_classes": [],
            "resizable": true,
            "_model_name": "MPLCanvasModel",
            "_height": 0,
            "header_visible": true,
            "_model_module_version": "^0.9.0",
            "_rubberband_x": 0,
            "_rubberband_y": 0,
            "toolbar": "IPY_MODEL_40d6d27306d746d8bc8452f67234850a",
            "toolbar_visible": true,
            "_rubberband_width": 0,
            "_width": 0,
            "_message": "",
            "_rubberband_height": 0,
            "_view_module_version": "^0.9.0",
            "toolbar_position": "left"
          }
        },
        "fb0d4f06dcae4611957d50a0a2ba3b38": {
          "model_module": "jupyter-matplotlib",
          "model_name": "MPLCanvasModel",
          "state": {
            "_view_name": "MPLCanvasView",
            "_view_module": "jupyter-matplotlib",
            "_figure_label": "Figure",
            "_view_count": null,
            "_cursor": "pointer",
            "capture_scroll": false,
            "layout": "IPY_MODEL_f4db3d33603a414d9d9e86eef4dcd2db",
            "_model_module": "jupyter-matplotlib",
            "footer_visible": true,
            "_image_mode": "full",
            "_dom_classes": [],
            "resizable": true,
            "_model_name": "MPLCanvasModel",
            "_height": 0,
            "header_visible": true,
            "_model_module_version": "^0.9.0",
            "_rubberband_x": 0,
            "_rubberband_y": 0,
            "toolbar": "IPY_MODEL_1d10910c2f2c4980948274664d41be88",
            "toolbar_visible": true,
            "_rubberband_width": 0,
            "_width": 0,
            "_message": "",
            "_rubberband_height": 0,
            "_view_module_version": "^0.9.0",
            "toolbar_position": "left"
          }
        },
        "91fed7908c374f6580152e65a8e6c838": {
          "model_module": "jupyter-matplotlib",
          "model_name": "MPLCanvasModel",
          "state": {
            "_view_name": "MPLCanvasView",
            "_view_module": "jupyter-matplotlib",
            "_figure_label": "Figure",
            "_view_count": null,
            "_cursor": "pointer",
            "capture_scroll": false,
            "layout": "IPY_MODEL_c38512ccae3640d88bed124a8cd93485",
            "_model_module": "jupyter-matplotlib",
            "footer_visible": true,
            "_image_mode": "full",
            "_dom_classes": [],
            "resizable": true,
            "_model_name": "MPLCanvasModel",
            "_height": 0,
            "header_visible": true,
            "_model_module_version": "^0.9.0",
            "_rubberband_x": 0,
            "_rubberband_y": 0,
            "toolbar": "IPY_MODEL_0151fde75d7e4f72b149d4e9c30283c5",
            "toolbar_visible": true,
            "_rubberband_width": 0,
            "_width": 0,
            "_message": "",
            "_rubberband_height": 0,
            "_view_module_version": "^0.9.0",
            "toolbar_position": "left"
          }
        },
        "52e5e7494a014d769a3ce8d83d0efc91": {
          "model_module": "jupyter-matplotlib",
          "model_name": "MPLCanvasModel",
          "state": {
            "_view_name": "MPLCanvasView",
            "_view_module": "jupyter-matplotlib",
            "_figure_label": "Figure",
            "_view_count": null,
            "_cursor": "pointer",
            "capture_scroll": false,
            "layout": "IPY_MODEL_d6d70a929be24597a1cddcf47563a112",
            "_model_module": "jupyter-matplotlib",
            "footer_visible": true,
            "_image_mode": "full",
            "_dom_classes": [],
            "resizable": true,
            "_model_name": "MPLCanvasModel",
            "_height": 0,
            "header_visible": true,
            "_model_module_version": "^0.9.0",
            "_rubberband_x": 0,
            "_rubberband_y": 0,
            "toolbar": "IPY_MODEL_69182049e80049c0b9a5d853b3ec8950",
            "toolbar_visible": true,
            "_rubberband_width": 0,
            "_width": 0,
            "_message": "",
            "_rubberband_height": 0,
            "_view_module_version": "^0.9.0",
            "toolbar_position": "left"
          }
        },
        "0fffac6dde9a4d7f817a80f8178dd722": {
          "model_module": "jupyter-matplotlib",
          "model_name": "MPLCanvasModel",
          "state": {
            "_view_name": "MPLCanvasView",
            "_view_module": "jupyter-matplotlib",
            "_figure_label": "Figure",
            "_view_count": null,
            "_cursor": "pointer",
            "capture_scroll": false,
            "layout": "IPY_MODEL_cb50fa6b61b84e12be001c01ecca58e1",
            "_model_module": "jupyter-matplotlib",
            "footer_visible": true,
            "_image_mode": "full",
            "_dom_classes": [],
            "resizable": true,
            "_model_name": "MPLCanvasModel",
            "_height": 0,
            "header_visible": true,
            "_model_module_version": "^0.9.0",
            "_rubberband_x": 0,
            "_rubberband_y": 0,
            "toolbar": "IPY_MODEL_6dc49a0cd0cb4ee39d79893d77f3017f",
            "toolbar_visible": true,
            "_rubberband_width": 0,
            "_width": 0,
            "_message": "",
            "_rubberband_height": 0,
            "_view_module_version": "^0.9.0",
            "toolbar_position": "left"
          }
        }
      }
    }
  },
  "cells": [
    {
      "cell_type": "code",
      "metadata": {
        "id": "2dOQfhdIHiIc"
      },
      "source": [
        "import numpy as np\n",
        "import pandas as pd\n",
        "import matplotlib.pyplot as plt\n",
        "%matplotlib inline"
      ],
      "execution_count": 2,
      "outputs": []
    },
    {
      "cell_type": "markdown",
      "metadata": {
        "id": "3caFPKYl0bRa"
      },
      "source": [
        "Q1"
      ]
    },
    {
      "cell_type": "code",
      "metadata": {
        "colab": {
          "base_uri": "https://localhost:8080/",
          "height": 204
        },
        "id": "hfh6zctBHlKw",
        "outputId": "f656ea84-2d27-4b95-f349-d20adcfd3875"
      },
      "source": [
        "data=pd.read_csv(r'/content/Simple_Dataset - Sheet1.csv')\n",
        "data.head()\n"
      ],
      "execution_count": 43,
      "outputs": [
        {
          "output_type": "execute_result",
          "data": {
            "text/html": [
              "<div>\n",
              "<style scoped>\n",
              "    .dataframe tbody tr th:only-of-type {\n",
              "        vertical-align: middle;\n",
              "    }\n",
              "\n",
              "    .dataframe tbody tr th {\n",
              "        vertical-align: top;\n",
              "    }\n",
              "\n",
              "    .dataframe thead th {\n",
              "        text-align: right;\n",
              "    }\n",
              "</style>\n",
              "<table border=\"1\" class=\"dataframe\">\n",
              "  <thead>\n",
              "    <tr style=\"text-align: right;\">\n",
              "      <th></th>\n",
              "      <th>x</th>\n",
              "      <th>y</th>\n",
              "    </tr>\n",
              "  </thead>\n",
              "  <tbody>\n",
              "    <tr>\n",
              "      <th>0</th>\n",
              "      <td>60</td>\n",
              "      <td>30</td>\n",
              "    </tr>\n",
              "    <tr>\n",
              "      <th>1</th>\n",
              "      <td>7</td>\n",
              "      <td>40</td>\n",
              "    </tr>\n",
              "    <tr>\n",
              "      <th>2</th>\n",
              "      <td>3</td>\n",
              "      <td>52</td>\n",
              "    </tr>\n",
              "    <tr>\n",
              "      <th>3</th>\n",
              "      <td>38</td>\n",
              "      <td>18</td>\n",
              "    </tr>\n",
              "    <tr>\n",
              "      <th>4</th>\n",
              "      <td>13</td>\n",
              "      <td>38</td>\n",
              "    </tr>\n",
              "  </tbody>\n",
              "</table>\n",
              "</div>"
            ],
            "text/plain": [
              "    x   y\n",
              "0  60  30\n",
              "1   7  40\n",
              "2   3  52\n",
              "3  38  18\n",
              "4  13  38"
            ]
          },
          "metadata": {
            "tags": []
          },
          "execution_count": 43
        }
      ]
    },
    {
      "cell_type": "code",
      "metadata": {
        "id": "SnN8cq3HHxPQ"
      },
      "source": [
        "X=data['x']\n",
        "Y=data['y']\n"
      ],
      "execution_count": 44,
      "outputs": []
    },
    {
      "cell_type": "code",
      "metadata": {
        "colab": {
          "base_uri": "https://localhost:8080/",
          "height": 17,
          "referenced_widgets": [
            "85d0121c67eb43bcb433b04fab8a6c3a"
          ]
        },
        "id": "7gmRGX7bH254",
        "outputId": "ecf00d2a-4f60-475b-d209-afa052f1b5c4"
      },
      "source": [
        "np.random.seed(200)\n",
        "k=3\n",
        "centroids={i+1:[np.random.randint(0,80),np.random.randint(0,80)]\n",
        "    for i in range(k)} # forming a dictionary of random centroids\n",
        "\n",
        "fig=plt.figure(figsize=(5,5))\n",
        "plt.scatter(X,Y,color='k')\n",
        "colmap={1:'r',2:'b',3:'g'}\n",
        "for i in centroids.keys():\n",
        "  plt.scatter(*centroids[i],color= colmap[i] )\n",
        "plt.xlim(0,80)\n",
        "plt.ylim(0,80)\n",
        "plt.show()\n"
      ],
      "execution_count": 45,
      "outputs": [
        {
          "output_type": "display_data",
          "data": {
            "application/vnd.jupyter.widget-view+json": {
              "model_id": "85d0121c67eb43bcb433b04fab8a6c3a",
              "version_minor": 0,
              "version_major": 2
            },
            "text/plain": [
              "Canvas(toolbar=Toolbar(toolitems=[('Home', 'Reset original view', 'home', 'home'), ('Back', 'Back to previous …"
            ]
          },
          "metadata": {
            "tags": []
          }
        }
      ]
    },
    {
      "cell_type": "code",
      "metadata": {
        "colab": {
          "base_uri": "https://localhost:8080/"
        },
        "id": "DZrHGUDKxzjd",
        "outputId": "bdd62f69-1d83-4a0e-f489-17031e976a61"
      },
      "source": [
        "centroids.keys()"
      ],
      "execution_count": 46,
      "outputs": [
        {
          "output_type": "execute_result",
          "data": {
            "text/plain": [
              "dict_keys([1, 2, 3])"
            ]
          },
          "metadata": {
            "tags": []
          },
          "execution_count": 46
        }
      ]
    },
    {
      "cell_type": "code",
      "metadata": {
        "colab": {
          "base_uri": "https://localhost:8080/",
          "height": 119,
          "referenced_widgets": [
            "833e63c338d8470aa38ac7dc1e990bb1"
          ]
        },
        "id": "wDnN4JzpyzEE",
        "outputId": "4cf60a64-dbad-4229-a35f-ad9ccf344b5d"
      },
      "source": [
        "def assignment(data,centroids):\n",
        "  for i in centroids.keys():\n",
        "    # adding three new columns to the dataset\n",
        "    data['distance from {}'.format(i)]=(np.sqrt((data['x']-centroids[i][0])**2 + (data['y']-centroids[i][1])**2))\n",
        "    \n",
        "    # forming a list of the new column names\n",
        "  centroid_distance_cols=['distance from {}'.format(i) for i in centroids.keys()] \n",
        "\n",
        "  # creating a new column closest and adding min value out of the three new columns\n",
        "  data['closest']=data.loc[:,centroid_distance_cols].idxmin(axis=1)\n",
        "\n",
        "  data['closest'] = data['closest'].map(lambda x: int(x.lstrip('distance from ')))\n",
        "  data['color'] = data['closest'].map(lambda x: colmap[x])\n",
        "  return data\n",
        "\n",
        "df=assignment(data,centroids)\n",
        "print(df.head())\n",
        "fig=plt.figure(figsize=(5,5))\n",
        "plt.scatter(X,Y,color=df['color'])\n",
        "for i in centroids.keys():\n",
        "  plt.scatter(*centroids[i],color=colmap[i],alpha=0.5,edgecolor='k') # to have diff colors for centroids and points\n",
        "plt.xlim(0,80)\n",
        "plt.ylim(0,80)\n",
        "plt.show()\n"
      ],
      "execution_count": 47,
      "outputs": [
        {
          "output_type": "stream",
          "text": [
            "    x   y  distance from 1  distance from 2  distance from 3  closest color\n",
            "0  60  30        36.769553        14.422205        46.270941        2     b\n",
            "1   7  40        30.610456        61.032778        60.000000        1     r\n",
            "2   3  52        42.720019        65.764732        57.271284        1     r\n",
            "3  38  18        12.165525        38.418745        60.440053        1     r\n",
            "4  13  38        25.553865        55.145263        56.639209        1     r\n"
          ],
          "name": "stdout"
        },
        {
          "output_type": "display_data",
          "data": {
            "application/vnd.jupyter.widget-view+json": {
              "model_id": "833e63c338d8470aa38ac7dc1e990bb1",
              "version_minor": 0,
              "version_major": 2
            },
            "text/plain": [
              "Canvas(toolbar=Toolbar(toolitems=[('Home', 'Reset original view', 'home', 'home'), ('Back', 'Back to previous …"
            ]
          },
          "metadata": {
            "tags": []
          }
        }
      ]
    },
    {
      "cell_type": "code",
      "metadata": {
        "id": "c46l1-_l4Zvn",
        "colab": {
          "base_uri": "https://localhost:8080/",
          "height": 17,
          "referenced_widgets": [
            "fb0d4f06dcae4611957d50a0a2ba3b38"
          ]
        },
        "outputId": "239ca84e-63b4-4a7f-8ca1-f3013b064c72"
      },
      "source": [
        "import copy #It means that any changes made to a copy of object do reflect in the original object.\n",
        "old_centroids=copy.deepcopy(centroids)\n",
        "\n",
        "def update(k):\n",
        "  for i in centroids.keys():\n",
        "    centroids[i][0]=np.mean(df[df['closest']==i]['x'])\n",
        "    centroids[i][1] = np.mean(df[df['closest'] == i]['y'])\n",
        "  return k\n",
        "centroids=update(centroids)\n",
        "fig=plt.figure(figsize=(5,5))\n",
        "ax=plt.axes()\n",
        "plt.scatter(X,Y,color=df['color'],alpha=0.5,edgecolor='k')\n",
        "for i in centroids.keys():\n",
        "  plt.scatter(*centroids[i],color=colmap[i])\n",
        "plt.xlim(0,80)\n",
        "plt.ylim(0,80)\n",
        "plt.show()\n",
        "\n",
        "\n"
      ],
      "execution_count": 48,
      "outputs": [
        {
          "output_type": "display_data",
          "data": {
            "application/vnd.jupyter.widget-view+json": {
              "model_id": "fb0d4f06dcae4611957d50a0a2ba3b38",
              "version_minor": 0,
              "version_major": 2
            },
            "text/plain": [
              "Canvas(toolbar=Toolbar(toolitems=[('Home', 'Reset original view', 'home', 'home'), ('Back', 'Back to previous …"
            ]
          },
          "metadata": {
            "tags": []
          }
        }
      ]
    },
    {
      "cell_type": "code",
      "metadata": {
        "colab": {
          "base_uri": "https://localhost:8080/",
          "height": 17,
          "referenced_widgets": [
            "91fed7908c374f6580152e65a8e6c838"
          ]
        },
        "id": "L5sT6osevq1B",
        "outputId": "2302114a-b6ab-4f05-c322-c21494fe285c"
      },
      "source": [
        "df=assignment(df,centroids)\n",
        "fig = plt.figure(figsize=(5,5))\n",
        "plt.scatter(df['x'],df['y'], color=df['color'],alpha=0.5, edgecolor='k')\n",
        "for i in centroids.keys():\n",
        "  plt.scatter(*centroids[i],color=colmap[i])\n",
        "plt.xlim(0,80)\n",
        "plt.ylim(0,80)\n",
        "plt.show()"
      ],
      "execution_count": 49,
      "outputs": [
        {
          "output_type": "display_data",
          "data": {
            "application/vnd.jupyter.widget-view+json": {
              "model_id": "91fed7908c374f6580152e65a8e6c838",
              "version_minor": 0,
              "version_major": 2
            },
            "text/plain": [
              "Canvas(toolbar=Toolbar(toolitems=[('Home', 'Reset original view', 'home', 'home'), ('Back', 'Back to previous …"
            ]
          },
          "metadata": {
            "tags": []
          }
        }
      ]
    },
    {
      "cell_type": "code",
      "metadata": {
        "colab": {
          "base_uri": "https://localhost:8080/",
          "height": 17,
          "referenced_widgets": [
            "52e5e7494a014d769a3ce8d83d0efc91"
          ]
        },
        "id": "zkmW6KVswGki",
        "outputId": "02e08809-66e5-4f52-d38e-c13f5c1f312f"
      },
      "source": [
        "while True:\n",
        "  closest_centroids = df['closest'].copy(deep = True)\n",
        "  centroids = update(centroids)\n",
        "  df = assignment(df, centroids)\n",
        "  if closest_centroids.equals(df['closest']):\n",
        "    break\n",
        "fig = plt.figure(figsize=(5,5))\n",
        "plt.scatter(df['x'],df['y'], color=df['color'],alpha=0.5, edgecolor='k')\n",
        "for i in centroids.keys():\n",
        "  plt.scatter(*centroids[i],color=colmap[i])\n",
        "plt.xlim(0,80)\n",
        "plt.ylim(0,80)\n",
        "plt.show()"
      ],
      "execution_count": 50,
      "outputs": [
        {
          "output_type": "display_data",
          "data": {
            "application/vnd.jupyter.widget-view+json": {
              "model_id": "52e5e7494a014d769a3ce8d83d0efc91",
              "version_minor": 0,
              "version_major": 2
            },
            "text/plain": [
              "Canvas(toolbar=Toolbar(toolitems=[('Home', 'Reset original view', 'home', 'home'), ('Back', 'Back to previous …"
            ]
          },
          "metadata": {
            "tags": []
          }
        }
      ]
    },
    {
      "cell_type": "code",
      "metadata": {
        "id": "Bmekn98ZwQe7"
      },
      "source": [
        ""
      ],
      "execution_count": 50,
      "outputs": []
    },
    {
      "cell_type": "markdown",
      "metadata": {
        "id": "tzFmJ39FwVuN"
      },
      "source": [
        "Q2"
      ]
    },
    {
      "cell_type": "code",
      "metadata": {
        "colab": {
          "base_uri": "https://localhost:8080/",
          "height": 204
        },
        "id": "rI3UqecLwWok",
        "outputId": "9651e221-1b64-4b33-9fe2-0dfb513e6655"
      },
      "source": [
        "dataset=pd.read_csv('/content/Mall_Customers.csv')\n",
        "dataset.head()"
      ],
      "execution_count": 3,
      "outputs": [
        {
          "output_type": "execute_result",
          "data": {
            "text/html": [
              "<div>\n",
              "<style scoped>\n",
              "    .dataframe tbody tr th:only-of-type {\n",
              "        vertical-align: middle;\n",
              "    }\n",
              "\n",
              "    .dataframe tbody tr th {\n",
              "        vertical-align: top;\n",
              "    }\n",
              "\n",
              "    .dataframe thead th {\n",
              "        text-align: right;\n",
              "    }\n",
              "</style>\n",
              "<table border=\"1\" class=\"dataframe\">\n",
              "  <thead>\n",
              "    <tr style=\"text-align: right;\">\n",
              "      <th></th>\n",
              "      <th>CustomerID</th>\n",
              "      <th>Gender</th>\n",
              "      <th>Age</th>\n",
              "      <th>Annual Income (k$)</th>\n",
              "      <th>Spending Score (1-100)</th>\n",
              "    </tr>\n",
              "  </thead>\n",
              "  <tbody>\n",
              "    <tr>\n",
              "      <th>0</th>\n",
              "      <td>1</td>\n",
              "      <td>Male</td>\n",
              "      <td>19</td>\n",
              "      <td>15</td>\n",
              "      <td>39</td>\n",
              "    </tr>\n",
              "    <tr>\n",
              "      <th>1</th>\n",
              "      <td>2</td>\n",
              "      <td>Male</td>\n",
              "      <td>21</td>\n",
              "      <td>15</td>\n",
              "      <td>81</td>\n",
              "    </tr>\n",
              "    <tr>\n",
              "      <th>2</th>\n",
              "      <td>3</td>\n",
              "      <td>Female</td>\n",
              "      <td>20</td>\n",
              "      <td>16</td>\n",
              "      <td>6</td>\n",
              "    </tr>\n",
              "    <tr>\n",
              "      <th>3</th>\n",
              "      <td>4</td>\n",
              "      <td>Female</td>\n",
              "      <td>23</td>\n",
              "      <td>16</td>\n",
              "      <td>77</td>\n",
              "    </tr>\n",
              "    <tr>\n",
              "      <th>4</th>\n",
              "      <td>5</td>\n",
              "      <td>Female</td>\n",
              "      <td>31</td>\n",
              "      <td>17</td>\n",
              "      <td>40</td>\n",
              "    </tr>\n",
              "  </tbody>\n",
              "</table>\n",
              "</div>"
            ],
            "text/plain": [
              "   CustomerID  Gender  Age  Annual Income (k$)  Spending Score (1-100)\n",
              "0           1    Male   19                  15                      39\n",
              "1           2    Male   21                  15                      81\n",
              "2           3  Female   20                  16                       6\n",
              "3           4  Female   23                  16                      77\n",
              "4           5  Female   31                  17                      40"
            ]
          },
          "metadata": {
            "tags": []
          },
          "execution_count": 3
        }
      ]
    },
    {
      "cell_type": "code",
      "metadata": {
        "id": "zXIYTG1yzCop"
      },
      "source": [
        "dataset.drop(['CustomerID','Gender'],axis=1,inplace=True)"
      ],
      "execution_count": 4,
      "outputs": []
    },
    {
      "cell_type": "code",
      "metadata": {
        "colab": {
          "base_uri": "https://localhost:8080/"
        },
        "id": "SRdSi8UW0Jqi",
        "outputId": "889c26b0-514c-41b1-e972-8ea56c5a6ba7"
      },
      "source": [
        "from sklearn.cluster import KMeans\n",
        "kmeans=KMeans(n_clusters=5)\n",
        "kmeans.fit(dataset)\n"
      ],
      "execution_count": 5,
      "outputs": [
        {
          "output_type": "execute_result",
          "data": {
            "text/plain": [
              "KMeans(algorithm='auto', copy_x=True, init='k-means++', max_iter=300,\n",
              "       n_clusters=5, n_init=10, n_jobs=None, precompute_distances='auto',\n",
              "       random_state=None, tol=0.0001, verbose=0)"
            ]
          },
          "metadata": {
            "tags": []
          },
          "execution_count": 5
        }
      ]
    },
    {
      "cell_type": "code",
      "metadata": {
        "colab": {
          "base_uri": "https://localhost:8080/"
        },
        "id": "rrRD1cnX5Zki",
        "outputId": "369d2b68-27ec-44dd-e228-db66bdeb8522"
      },
      "source": [
        "labels=kmeans.predict(dataset)\n",
        "centroids=kmeans.cluster_centers_\n",
        "#colmap={1:'r',2:'b',3:'g',4:'y',5:'p'}\n",
        "labels"
      ],
      "execution_count": 6,
      "outputs": [
        {
          "output_type": "execute_result",
          "data": {
            "text/plain": [
              "array([0, 3, 0, 3, 0, 3, 0, 3, 0, 3, 0, 3, 0, 3, 0, 3, 0, 3, 0, 3, 0, 3,\n",
              "       0, 3, 0, 3, 0, 3, 0, 3, 0, 3, 0, 3, 0, 3, 0, 3, 0, 3, 0, 3, 0, 3,\n",
              "       0, 3, 2, 2, 2, 2, 2, 2, 2, 2, 2, 2, 2, 2, 2, 2, 2, 2, 2, 2, 2, 2,\n",
              "       2, 2, 2, 2, 2, 2, 2, 2, 2, 2, 2, 2, 2, 2, 2, 2, 2, 2, 2, 2, 2, 2,\n",
              "       2, 2, 2, 2, 2, 2, 2, 2, 2, 2, 2, 2, 2, 2, 2, 2, 2, 2, 2, 2, 2, 2,\n",
              "       2, 2, 2, 2, 2, 2, 2, 2, 2, 2, 2, 2, 2, 1, 4, 1, 2, 1, 4, 1, 4, 1,\n",
              "       4, 1, 4, 1, 4, 1, 4, 1, 4, 1, 2, 1, 4, 1, 4, 1, 4, 1, 4, 1, 4, 1,\n",
              "       4, 1, 4, 1, 4, 1, 4, 1, 4, 1, 4, 1, 4, 1, 4, 1, 4, 1, 4, 1, 4, 1,\n",
              "       4, 1, 4, 1, 4, 1, 4, 1, 4, 1, 4, 1, 4, 1, 4, 1, 4, 1, 4, 1, 4, 1,\n",
              "       4, 1], dtype=int32)"
            ]
          },
          "metadata": {
            "tags": []
          },
          "execution_count": 6
        }
      ]
    },
    {
      "cell_type": "code",
      "metadata": {
        "id": "d3y5407CRYxC"
      },
      "source": [
        " from mpl_toolkits.mplot3d import Axes3D\n",
        "  "
      ],
      "execution_count": 7,
      "outputs": []
    },
    {
      "cell_type": "code",
      "metadata": {
        "id": "nx5ar3uiea04"
      },
      "source": [
        "dataset[\"cluster\"] = labels"
      ],
      "execution_count": 8,
      "outputs": []
    },
    {
      "cell_type": "code",
      "metadata": {
        "colab": {
          "base_uri": "https://localhost:8080/",
          "height": 419
        },
        "id": "abZAhlxtetUV",
        "outputId": "974405e2-bf7f-41be-c578-78bb0818e014"
      },
      "source": [
        "dataset"
      ],
      "execution_count": 9,
      "outputs": [
        {
          "output_type": "execute_result",
          "data": {
            "text/html": [
              "<div>\n",
              "<style scoped>\n",
              "    .dataframe tbody tr th:only-of-type {\n",
              "        vertical-align: middle;\n",
              "    }\n",
              "\n",
              "    .dataframe tbody tr th {\n",
              "        vertical-align: top;\n",
              "    }\n",
              "\n",
              "    .dataframe thead th {\n",
              "        text-align: right;\n",
              "    }\n",
              "</style>\n",
              "<table border=\"1\" class=\"dataframe\">\n",
              "  <thead>\n",
              "    <tr style=\"text-align: right;\">\n",
              "      <th></th>\n",
              "      <th>Age</th>\n",
              "      <th>Annual Income (k$)</th>\n",
              "      <th>Spending Score (1-100)</th>\n",
              "      <th>cluster</th>\n",
              "    </tr>\n",
              "  </thead>\n",
              "  <tbody>\n",
              "    <tr>\n",
              "      <th>0</th>\n",
              "      <td>19</td>\n",
              "      <td>15</td>\n",
              "      <td>39</td>\n",
              "      <td>0</td>\n",
              "    </tr>\n",
              "    <tr>\n",
              "      <th>1</th>\n",
              "      <td>21</td>\n",
              "      <td>15</td>\n",
              "      <td>81</td>\n",
              "      <td>3</td>\n",
              "    </tr>\n",
              "    <tr>\n",
              "      <th>2</th>\n",
              "      <td>20</td>\n",
              "      <td>16</td>\n",
              "      <td>6</td>\n",
              "      <td>0</td>\n",
              "    </tr>\n",
              "    <tr>\n",
              "      <th>3</th>\n",
              "      <td>23</td>\n",
              "      <td>16</td>\n",
              "      <td>77</td>\n",
              "      <td>3</td>\n",
              "    </tr>\n",
              "    <tr>\n",
              "      <th>4</th>\n",
              "      <td>31</td>\n",
              "      <td>17</td>\n",
              "      <td>40</td>\n",
              "      <td>0</td>\n",
              "    </tr>\n",
              "    <tr>\n",
              "      <th>...</th>\n",
              "      <td>...</td>\n",
              "      <td>...</td>\n",
              "      <td>...</td>\n",
              "      <td>...</td>\n",
              "    </tr>\n",
              "    <tr>\n",
              "      <th>195</th>\n",
              "      <td>35</td>\n",
              "      <td>120</td>\n",
              "      <td>79</td>\n",
              "      <td>1</td>\n",
              "    </tr>\n",
              "    <tr>\n",
              "      <th>196</th>\n",
              "      <td>45</td>\n",
              "      <td>126</td>\n",
              "      <td>28</td>\n",
              "      <td>4</td>\n",
              "    </tr>\n",
              "    <tr>\n",
              "      <th>197</th>\n",
              "      <td>32</td>\n",
              "      <td>126</td>\n",
              "      <td>74</td>\n",
              "      <td>1</td>\n",
              "    </tr>\n",
              "    <tr>\n",
              "      <th>198</th>\n",
              "      <td>32</td>\n",
              "      <td>137</td>\n",
              "      <td>18</td>\n",
              "      <td>4</td>\n",
              "    </tr>\n",
              "    <tr>\n",
              "      <th>199</th>\n",
              "      <td>30</td>\n",
              "      <td>137</td>\n",
              "      <td>83</td>\n",
              "      <td>1</td>\n",
              "    </tr>\n",
              "  </tbody>\n",
              "</table>\n",
              "<p>200 rows × 4 columns</p>\n",
              "</div>"
            ],
            "text/plain": [
              "     Age  Annual Income (k$)  Spending Score (1-100)  cluster\n",
              "0     19                  15                      39        0\n",
              "1     21                  15                      81        3\n",
              "2     20                  16                       6        0\n",
              "3     23                  16                      77        3\n",
              "4     31                  17                      40        0\n",
              "..   ...                 ...                     ...      ...\n",
              "195   35                 120                      79        1\n",
              "196   45                 126                      28        4\n",
              "197   32                 126                      74        1\n",
              "198   32                 137                      18        4\n",
              "199   30                 137                      83        1\n",
              "\n",
              "[200 rows x 4 columns]"
            ]
          },
          "metadata": {
            "tags": []
          },
          "execution_count": 9
        }
      ]
    },
    {
      "cell_type": "code",
      "metadata": {
        "colab": {
          "base_uri": "https://localhost:8080/"
        },
        "id": "0VqY42fxdEVL",
        "outputId": "ae98420d-9b52-4d68-b9e7-c4366d724c78"
      },
      "source": [
        "!pip install ipympl"
      ],
      "execution_count": 10,
      "outputs": [
        {
          "output_type": "stream",
          "text": [
            "Requirement already satisfied: ipympl in /usr/local/lib/python3.7/dist-packages (0.7.0)\n",
            "Requirement already satisfied: ipywidgets>=7.6.0 in /usr/local/lib/python3.7/dist-packages (from ipympl) (7.6.3)\n",
            "Requirement already satisfied: ipykernel>=4.7 in /usr/local/lib/python3.7/dist-packages (from ipympl) (4.10.1)\n",
            "Requirement already satisfied: matplotlib>=2.0.0 in /usr/local/lib/python3.7/dist-packages (from ipympl) (3.2.2)\n",
            "Requirement already satisfied: ipython>=4.0.0; python_version >= \"3.3\" in /usr/local/lib/python3.7/dist-packages (from ipywidgets>=7.6.0->ipympl) (5.5.0)\n",
            "Requirement already satisfied: traitlets>=4.3.1 in /usr/local/lib/python3.7/dist-packages (from ipywidgets>=7.6.0->ipympl) (5.0.5)\n",
            "Requirement already satisfied: nbformat>=4.2.0 in /usr/local/lib/python3.7/dist-packages (from ipywidgets>=7.6.0->ipympl) (5.1.3)\n",
            "Requirement already satisfied: jupyterlab-widgets>=1.0.0; python_version >= \"3.6\" in /usr/local/lib/python3.7/dist-packages (from ipywidgets>=7.6.0->ipympl) (1.0.0)\n",
            "Requirement already satisfied: widgetsnbextension~=3.5.0 in /usr/local/lib/python3.7/dist-packages (from ipywidgets>=7.6.0->ipympl) (3.5.1)\n",
            "Requirement already satisfied: jupyter-client in /usr/local/lib/python3.7/dist-packages (from ipykernel>=4.7->ipympl) (5.3.5)\n",
            "Requirement already satisfied: tornado>=4.0 in /usr/local/lib/python3.7/dist-packages (from ipykernel>=4.7->ipympl) (5.1.1)\n",
            "Requirement already satisfied: numpy>=1.11 in /usr/local/lib/python3.7/dist-packages (from matplotlib>=2.0.0->ipympl) (1.19.5)\n",
            "Requirement already satisfied: cycler>=0.10 in /usr/local/lib/python3.7/dist-packages (from matplotlib>=2.0.0->ipympl) (0.10.0)\n",
            "Requirement already satisfied: python-dateutil>=2.1 in /usr/local/lib/python3.7/dist-packages (from matplotlib>=2.0.0->ipympl) (2.8.1)\n",
            "Requirement already satisfied: kiwisolver>=1.0.1 in /usr/local/lib/python3.7/dist-packages (from matplotlib>=2.0.0->ipympl) (1.3.1)\n",
            "Requirement already satisfied: pyparsing!=2.0.4,!=2.1.2,!=2.1.6,>=2.0.1 in /usr/local/lib/python3.7/dist-packages (from matplotlib>=2.0.0->ipympl) (2.4.7)\n",
            "Requirement already satisfied: pickleshare in /usr/local/lib/python3.7/dist-packages (from ipython>=4.0.0; python_version >= \"3.3\"->ipywidgets>=7.6.0->ipympl) (0.7.5)\n",
            "Requirement already satisfied: pexpect; sys_platform != \"win32\" in /usr/local/lib/python3.7/dist-packages (from ipython>=4.0.0; python_version >= \"3.3\"->ipywidgets>=7.6.0->ipympl) (4.8.0)\n",
            "Requirement already satisfied: simplegeneric>0.8 in /usr/local/lib/python3.7/dist-packages (from ipython>=4.0.0; python_version >= \"3.3\"->ipywidgets>=7.6.0->ipympl) (0.8.1)\n",
            "Requirement already satisfied: pygments in /usr/local/lib/python3.7/dist-packages (from ipython>=4.0.0; python_version >= \"3.3\"->ipywidgets>=7.6.0->ipympl) (2.6.1)\n",
            "Requirement already satisfied: decorator in /usr/local/lib/python3.7/dist-packages (from ipython>=4.0.0; python_version >= \"3.3\"->ipywidgets>=7.6.0->ipympl) (4.4.2)\n",
            "Requirement already satisfied: prompt-toolkit<2.0.0,>=1.0.4 in /usr/local/lib/python3.7/dist-packages (from ipython>=4.0.0; python_version >= \"3.3\"->ipywidgets>=7.6.0->ipympl) (1.0.18)\n",
            "Requirement already satisfied: setuptools>=18.5 in /usr/local/lib/python3.7/dist-packages (from ipython>=4.0.0; python_version >= \"3.3\"->ipywidgets>=7.6.0->ipympl) (56.1.0)\n",
            "Requirement already satisfied: ipython-genutils in /usr/local/lib/python3.7/dist-packages (from traitlets>=4.3.1->ipywidgets>=7.6.0->ipympl) (0.2.0)\n",
            "Requirement already satisfied: jupyter-core in /usr/local/lib/python3.7/dist-packages (from nbformat>=4.2.0->ipywidgets>=7.6.0->ipympl) (4.7.1)\n",
            "Requirement already satisfied: jsonschema!=2.5.0,>=2.4 in /usr/local/lib/python3.7/dist-packages (from nbformat>=4.2.0->ipywidgets>=7.6.0->ipympl) (2.6.0)\n",
            "Requirement already satisfied: notebook>=4.4.1 in /usr/local/lib/python3.7/dist-packages (from widgetsnbextension~=3.5.0->ipywidgets>=7.6.0->ipympl) (5.3.1)\n",
            "Requirement already satisfied: pyzmq>=13 in /usr/local/lib/python3.7/dist-packages (from jupyter-client->ipykernel>=4.7->ipympl) (22.0.3)\n",
            "Requirement already satisfied: six in /usr/local/lib/python3.7/dist-packages (from cycler>=0.10->matplotlib>=2.0.0->ipympl) (1.15.0)\n",
            "Requirement already satisfied: ptyprocess>=0.5 in /usr/local/lib/python3.7/dist-packages (from pexpect; sys_platform != \"win32\"->ipython>=4.0.0; python_version >= \"3.3\"->ipywidgets>=7.6.0->ipympl) (0.7.0)\n",
            "Requirement already satisfied: wcwidth in /usr/local/lib/python3.7/dist-packages (from prompt-toolkit<2.0.0,>=1.0.4->ipython>=4.0.0; python_version >= \"3.3\"->ipywidgets>=7.6.0->ipympl) (0.2.5)\n",
            "Requirement already satisfied: Send2Trash in /usr/local/lib/python3.7/dist-packages (from notebook>=4.4.1->widgetsnbextension~=3.5.0->ipywidgets>=7.6.0->ipympl) (1.5.0)\n",
            "Requirement already satisfied: nbconvert in /usr/local/lib/python3.7/dist-packages (from notebook>=4.4.1->widgetsnbextension~=3.5.0->ipywidgets>=7.6.0->ipympl) (5.6.1)\n",
            "Requirement already satisfied: terminado>=0.8.1 in /usr/local/lib/python3.7/dist-packages (from notebook>=4.4.1->widgetsnbextension~=3.5.0->ipywidgets>=7.6.0->ipympl) (0.10.0)\n",
            "Requirement already satisfied: jinja2 in /usr/local/lib/python3.7/dist-packages (from notebook>=4.4.1->widgetsnbextension~=3.5.0->ipywidgets>=7.6.0->ipympl) (2.11.3)\n",
            "Requirement already satisfied: pandocfilters>=1.4.1 in /usr/local/lib/python3.7/dist-packages (from nbconvert->notebook>=4.4.1->widgetsnbextension~=3.5.0->ipywidgets>=7.6.0->ipympl) (1.4.3)\n",
            "Requirement already satisfied: bleach in /usr/local/lib/python3.7/dist-packages (from nbconvert->notebook>=4.4.1->widgetsnbextension~=3.5.0->ipywidgets>=7.6.0->ipympl) (3.3.0)\n",
            "Requirement already satisfied: testpath in /usr/local/lib/python3.7/dist-packages (from nbconvert->notebook>=4.4.1->widgetsnbextension~=3.5.0->ipywidgets>=7.6.0->ipympl) (0.5.0)\n",
            "Requirement already satisfied: defusedxml in /usr/local/lib/python3.7/dist-packages (from nbconvert->notebook>=4.4.1->widgetsnbextension~=3.5.0->ipywidgets>=7.6.0->ipympl) (0.7.1)\n",
            "Requirement already satisfied: entrypoints>=0.2.2 in /usr/local/lib/python3.7/dist-packages (from nbconvert->notebook>=4.4.1->widgetsnbextension~=3.5.0->ipywidgets>=7.6.0->ipympl) (0.3)\n",
            "Requirement already satisfied: mistune<2,>=0.8.1 in /usr/local/lib/python3.7/dist-packages (from nbconvert->notebook>=4.4.1->widgetsnbextension~=3.5.0->ipywidgets>=7.6.0->ipympl) (0.8.4)\n",
            "Requirement already satisfied: MarkupSafe>=0.23 in /usr/local/lib/python3.7/dist-packages (from jinja2->notebook>=4.4.1->widgetsnbextension~=3.5.0->ipywidgets>=7.6.0->ipympl) (2.0.1)\n",
            "Requirement already satisfied: packaging in /usr/local/lib/python3.7/dist-packages (from bleach->nbconvert->notebook>=4.4.1->widgetsnbextension~=3.5.0->ipywidgets>=7.6.0->ipympl) (20.9)\n",
            "Requirement already satisfied: webencodings in /usr/local/lib/python3.7/dist-packages (from bleach->nbconvert->notebook>=4.4.1->widgetsnbextension~=3.5.0->ipywidgets>=7.6.0->ipympl) (0.5.1)\n"
          ],
          "name": "stdout"
        }
      ]
    },
    {
      "cell_type": "code",
      "metadata": {
        "colab": {
          "base_uri": "https://localhost:8080/",
          "height": 17,
          "referenced_widgets": [
            "0fffac6dde9a4d7f817a80f8178dd722"
          ]
        },
        "id": "yxR8B0M6bdH0",
        "outputId": "ac02dffd-e209-4db2-cb52-e6f714d6c874"
      },
      "source": [
        "from mpl_toolkits.mplot3d import Axes3D\n",
        "%matplotlib widget\n",
        "\n",
        "#colors = ['#DF2020', '#81DF20', '#2095DF','#1f77b4', '#ff7f0e''tab:purple','tab:brown']\n",
        "colors=['tab:blue',\n",
        "'tab:orange',\n",
        "'tab:green',\n",
        "'tab:red',\n",
        "'tab:purple',]\n",
        "\n",
        "dataset['c'] = dataset.cluster.map({0:colors[0], 1:colors[1], 2:colors[2]\n",
        "                                    ,3:colors[3], 4:colors[4]\n",
        "                                    })\n",
        "\n",
        "fig = plt.figure(figsize=(26,6))\n",
        "ax = fig.add_subplot(131, projection='3d')\n",
        "ax.scatter(dataset['Age'],dataset['Annual Income (k$)'],dataset['Spending Score (1-100)'],c=dataset.c, s=15)\n",
        "ax.set_xlabel('Age')\n",
        "ax.set_ylabel('Annual Income (k$)')\n",
        "ax.set_zlabel('Spending Score (1-100)')\n",
        "plt.show()"
      ],
      "execution_count": 21,
      "outputs": [
        {
          "output_type": "display_data",
          "data": {
            "application/vnd.jupyter.widget-view+json": {
              "model_id": "0fffac6dde9a4d7f817a80f8178dd722",
              "version_minor": 0,
              "version_major": 2
            },
            "text/plain": [
              "Canvas(toolbar=Toolbar(toolitems=[('Home', 'Reset original view', 'home', 'home'), ('Back', 'Back to previous …"
            ]
          },
          "metadata": {
            "tags": []
          }
        }
      ]
    },
    {
      "cell_type": "code",
      "metadata": {
        "colab": {
          "base_uri": "https://localhost:8080/",
          "height": 357
        },
        "id": "BRmhBlWtfFrO",
        "outputId": "c0fd12a7-5fbf-484f-9e0e-29e084cac3eb"
      },
      "source": [
        "fig"
      ],
      "execution_count": 22,
      "outputs": [
        {
          "output_type": "execute_result",
          "data": {
            "image/png": "[encoded data removed]",
            "text/plain": [
              "<Figure size 1872x432 with 1 Axes>"
            ]
          },
          "metadata": {
            "tags": []
          },
          "execution_count": 22
        }
      ]
    },
    {
      "cell_type": "code",
      "metadata": {
        "id": "I8vfmUSEXLQ5"
      },
      "source": [
        ""
      ],
      "execution_count": null,
      "outputs": []
    }
  ]
}